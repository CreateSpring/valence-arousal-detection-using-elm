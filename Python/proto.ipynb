{
 "cells": [
  {
   "cell_type": "code",
   "execution_count": 17,
   "metadata": {},
   "outputs": [],
   "source": [
    "import scipy.io as scio\n",
    "import numpy as np\n",
    "from sklearn.decomposition import KernelPCA, IncrementalPCA\n",
    "from sklearn.preprocessing import MinMaxScaler\n",
    "import elm\n",
    "from sklearn.model_selection import train_test_split\n",
    "import prettytable\n"
   ]
  },
  {
   "cell_type": "code",
   "execution_count": 2,
   "metadata": {},
   "outputs": [],
   "source": [
    "features_array = scio.loadmat('selected_features.mat')\n",
    "labels       = scio.loadmat('selected_labels.mat')"
   ]
  },
  {
   "cell_type": "code",
   "execution_count": 3,
   "metadata": {},
   "outputs": [],
   "source": [
    "features = features_array['selected_features']\n",
    "labels = labels['selected_labels']"
   ]
  },
  {
   "cell_type": "code",
   "execution_count": 4,
   "metadata": {},
   "outputs": [
    {
     "name": "stdout",
     "output_type": "stream",
     "text": [
      "[[1]\n",
      " [1]\n",
      " [1]\n",
      " [1]\n",
      " [1]\n",
      " [1]\n",
      " [1]\n",
      " [1]\n",
      " [1]]\n"
     ]
    }
   ],
   "source": [
    "print(labels[1:10])"
   ]
  },
  {
   "cell_type": "code",
   "execution_count": 5,
   "metadata": {},
   "outputs": [],
   "source": [
    "elmk = elm.ELMKernel()"
   ]
  },
  {
   "cell_type": "code",
   "execution_count": 6,
   "metadata": {},
   "outputs": [
    {
     "name": "stdout",
     "output_type": "stream",
     "text": [
      "elmk\n",
      "##### Start search #####\n",
      "Kernel function:  rbf  best cv value:  0.641015625\n",
      "##### Search complete #####\n",
      "\n",
      "Regressor Parameters\n",
      "\n",
      "Regularization coefficient:  -0.31746127807101093\n",
      "Kernel Function:  rbf\n",
      "Kernel parameters:  [1.339634106314971]\n",
      "\n",
      "CV error:  0.641015625\n",
      "\n"
     ]
    }
   ],
   "source": [
    "elmk.search_param(features, cv=\"kfold\", of=\"accuracy\", eval=10, kf = [\"rbf\"])"
   ]
  },
  {
   "cell_type": "code",
   "execution_count": 7,
   "metadata": {},
   "outputs": [],
   "source": [
    "tr_set, te_set = elm.split_sets(features, training_percent=.8, perm=True)\n"
   ]
  },
  {
   "cell_type": "code",
   "execution_count": 8,
   "metadata": {},
   "outputs": [
    {
     "name": "stdout",
     "output_type": "stream",
     "text": [
      "0.6519097222222222\n"
     ]
    }
   ],
   "source": [
    "tr_result = elmk.train(tr_set)\n",
    "te_result = elmk.test(te_set)\n",
    "\n",
    "print(te_result.get_accuracy())"
   ]
  },
  {
   "cell_type": "code",
   "execution_count": 18,
   "metadata": {},
   "outputs": [
    {
     "name": "stdout",
     "output_type": "stream",
     "text": [
      "\n",
      "+----------+-------------+\n",
      "| Error    | Value       |\n",
      "+----------+-------------+\n",
      "| accuracy | 0.65190972  |\n",
      "| hr       | 0.96223958  |\n",
      "| hr+      | 0.96299599  |\n",
      "| hr-      | 0.9615222   |\n",
      "| mae      | 0.12439794  |\n",
      "| mape     | 80.31825626 |\n",
      "| me       | 0.00594763  |\n",
      "| mpe      | 6.91310674  |\n",
      "| mse      | 0.02966878  |\n",
      "| rmse     | 0.17224627  |\n",
      "| std      | 0.17214356  |\n",
      "+----------+-------------+\n",
      "\n"
     ]
    }
   ],
   "source": [
    "te_result.calc_metrics()\n",
    "te_result.print_errors()"
   ]
  },
  {
   "cell_type": "code",
   "execution_count": 19,
   "metadata": {},
   "outputs": [
    {
     "name": "stdout",
     "output_type": "stream",
     "text": [
      "\n",
      "+----------+------------+\n",
      "| Error    | Value      |\n",
      "+----------+------------+\n",
      "| accuracy | 0.63764106 |\n",
      "| hr       | 0.9594184  |\n",
      "| hr+      | 0.95783066 |\n",
      "| hr-      | 0.96094498 |\n",
      "| mae      | 0.11106328 |\n",
      "| mape     | 82.9315239 |\n",
      "| me       | 0.00386691 |\n",
      "| mpe      | 4.84888449 |\n",
      "| mse      | 0.02146126 |\n",
      "| rmse     | 0.14649662 |\n",
      "| std      | 0.14644557 |\n",
      "+----------+------------+\n",
      "\n"
     ]
    }
   ],
   "source": [
    "tr_result.calc_metrics()\n",
    "tr_result.print_errors()"
   ]
  },
  {
   "cell_type": "code",
   "execution_count": 12,
   "metadata": {},
   "outputs": [
    {
     "data": {
      "text/plain": [
       "(10240, 8)"
      ]
     },
     "execution_count": 12,
     "metadata": {},
     "output_type": "execute_result"
    }
   ],
   "source": [
    "X = features\n",
    "transformer = KernelPCA(n_components=8, kernel='rbf')\n",
    "X_transformed = transformer.fit_transform(X)\n",
    "X_transformed.shape"
   ]
  },
  {
   "cell_type": "code",
   "execution_count": 13,
   "metadata": {},
   "outputs": [],
   "source": [
    "scio.savemat('features_pca.mat', {'features_pca':X_transformed})"
   ]
  },
  {
   "cell_type": "code",
   "execution_count": null,
   "metadata": {},
   "outputs": [],
   "source": []
  }
 ],
 "metadata": {
  "kernelspec": {
   "display_name": "my-virtualenv-name",
   "language": "python",
   "name": "my-virtualenv-name"
  },
  "language_info": {
   "codemirror_mode": {
    "name": "ipython",
    "version": 3
   },
   "file_extension": ".py",
   "mimetype": "text/x-python",
   "name": "python",
   "nbconvert_exporter": "python",
   "pygments_lexer": "ipython3",
   "version": "3.6.6"
  }
 },
 "nbformat": 4,
 "nbformat_minor": 2
}
